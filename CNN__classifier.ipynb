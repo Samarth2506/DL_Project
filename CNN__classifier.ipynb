{
  "nbformat": 4,
  "nbformat_minor": 0,
  "metadata": {
    "colab": {
      "name": "CNN__classifier.ipynb",
      "provenance": [],
      "collapsed_sections": [],
      "machine_shape": "hm"
    },
    "kernelspec": {
      "name": "python3",
      "display_name": "Python 3"
    },
    "accelerator": "GPU"
  },
  "cells": [
    {
      "cell_type": "code",
      "metadata": {
        "id": "vssFyWDNQz-_",
        "colab_type": "code",
        "colab": {}
      },
      "source": [
        "import torch\n",
        "import torch.nn as nn\n",
        "import torch.nn.functional as F\n",
        "import torch.optim as optim\n",
        "import numpy as np\n",
        "use_cuda=True\n",
        "from sklearn.model_selection import train_test_split\n",
        "torch.manual_seed(2)\n",
        "np.random.seed(2)"
      ],
      "execution_count": 0,
      "outputs": []
    },
    {
      "cell_type": "code",
      "metadata": {
        "id": "jCw9RnLbdznU",
        "colab_type": "code",
        "colab": {}
      },
      "source": [
        "# orig_train=np.load(\"/content/drive/My Drive/CelebA/image_array_20000.npy\")\n",
        "real_train=np.load(\"/content/drive/My Drive/CelebA/image_array_10000.npy\")\n",
        "fake_train=np.load(\"/content/drive/My Drive/CelebA/image_fake_array_10000.npy\")\n"
      ],
      "execution_count": 0,
      "outputs": []
    },
    {
      "cell_type": "code",
      "metadata": {
        "id": "_-LnN1u4nUHS",
        "colab_type": "code",
        "colab": {}
      },
      "source": [
        "array_real = np.transpose(real_train, (0, 1, 3, 2))\n",
        "array_real = np.transpose(array_real, (0, 2, 1, 3))\n",
        "array_fake = np.transpose(fake_train, (0, 1, 3, 2))\n",
        "array_fake = np.transpose(array_fake, (0, 2, 1, 3))"
      ],
      "execution_count": 0,
      "outputs": []
    },
    {
      "cell_type": "code",
      "metadata": {
        "id": "2k_J2f1Tviyr",
        "colab_type": "code",
        "colab": {}
      },
      "source": [
        "array_real=real_train\n",
        "array_fake=fake_train"
      ],
      "execution_count": 0,
      "outputs": []
    },
    {
      "cell_type": "code",
      "metadata": {
        "id": "Rm2TEgCSoG0_",
        "colab_type": "code",
        "colab": {}
      },
      "source": [
        "train_x=np.concatenate([array_real, array_fake])\n",
        "train_y=np.concatenate([np.zeros(len(array_real)), np.ones(len(array_fake))])\n",
        "\n",
        "x_train, x_test, y_train, y_test = train_test_split(train_x, train_y, stratify=train_y, test_size=0.2, shuffle=True)\n",
        "\n"
      ],
      "execution_count": 0,
      "outputs": []
    },
    {
      "cell_type": "code",
      "metadata": {
        "id": "LnyXwBrfktwu",
        "colab_type": "code",
        "colab": {}
      },
      "source": [
        "from torch.utils.data import Dataset, DataLoader\n",
        "from PIL import Image\n",
        "\n",
        "import torchvision\n",
        "import torchvision.transforms as transforms\n",
        "\n",
        "\n",
        "class MyDataset(Dataset):\n",
        "    def __init__(self, data, targets, transform=None):\n",
        "        self.data = data\n",
        "        self.targets = torch.LongTensor(targets)\n",
        "        self.transform = transform\n",
        "\n",
        "    def __getitem__(self, index):\n",
        "        x = self.data[index]\n",
        "        y = self.targets[index]\n",
        "\n",
        "        if self.transform:\n",
        "            x = Image.fromarray(self.data[index].astype(np.uint8).transpose(1,2,0))\n",
        "            x = self.transform(x)\n",
        "\n",
        "        return x, y\n",
        "\n",
        "    def __len__(self):\n",
        "        return len(self.data)\n",
        "\n",
        "transform = transforms.Compose(\n",
        "    [transforms.RandomHorizontalFlip(), transforms.RandomVerticalFlip(),  transforms.ToTensor(), transforms.Normalize((0.5, 0.5, 0.5), (0.25, 0.25, 0.25))])\n",
        "\n",
        "transform1 = transforms.Compose(\n",
        "    [transforms.ToTensor(), transforms.Normalize((0.5, 0.5, 0.5), (0.25, 0.25, 0.25))])\n",
        "\n",
        "dataset = MyDataset(train_x, train_y, transform=transform)\n",
        "dataloader = DataLoader(dataset, 50, shuffle=True)"
      ],
      "execution_count": 0,
      "outputs": []
    },
    {
      "cell_type": "code",
      "metadata": {
        "id": "txZewbdEeAlJ",
        "colab_type": "code",
        "colab": {}
      },
      "source": [
        "def train(model ,optimiser, criterion, num_epochs, flag=0):\n",
        "  tr_acc=[]\n",
        "  val_acc=[]\n",
        "  loss_dat=[]\n",
        "  start=0\n",
        "  \n",
        "  if flag:\n",
        "    checkpoint = torch.load(PATH)\n",
        "    model.load_state_dict(checkpoint['model_state_dict'])\n",
        "    optimizer.load_state_dict(checkpoint['optimizer_state_dict'])\n",
        "    start = checkpoint['epoch']\n",
        "    loss = checkpoint['loss']\n",
        "    model.train()\n",
        "\n",
        "  for epoch in range(start, num_epochs):\n",
        "\n",
        "    for local_X, local_Y in dataloader:\n",
        "      local_X, local_Y= local_X.cuda(), local_Y.cuda()\n",
        "      optimizer.zero_grad()\n",
        "\n",
        "      outputs=model(local_X)\n",
        "      loss=criterion(outputs, local_Y)\n",
        "      loss.backward()\n",
        "\n",
        "      optimizer.step()\n",
        "    \n",
        "    # scheduler.step()\n",
        "    a=model_accuracy(model, x_train, y_train, 50)\n",
        "    b=model_accuracy(model, x_test, y_test, 50)\n",
        "    \n",
        "    tr_acc.append(a)\n",
        "    val_acc.append(b)\n",
        "    loss_dat.append(loss.item())\n",
        "\n",
        "    if epoch%10==0:\n",
        "      print(\"Epoch:\", epoch, loss.item(), \"Train Acc:\", a, \"Val Acc:\", b)\n",
        "    \n",
        "    # if epoch%50==0:\n",
        "    #   torch.save({'epoch': epoch,\n",
        "    #               'model_state_dict': model.state_dict(),\n",
        "    #               'optimizer_state_dict': optimizer.state_dict(),\n",
        "    #               'loss': loss,}, \"/content/drive/My Drive/DL_CIFAR_\"+str(model)[:11]+\"_\"+str(epoch))\n",
        "  return tr_acc, val_acc, loss_dat\n",
        "\n",
        "def model_accuracy(model, data_x, data_y, batch_size):\n",
        "\n",
        "  correct = 0\n",
        "  total = 0\n",
        "\n",
        "  dataset_dev = MyDataset(data_x, data_y, transform=transform1)\n",
        "  dataloader_dev = DataLoader(dataset_dev, 50, shuffle=False)\n",
        "  with torch.no_grad():\n",
        "      for local_X, local_Y in dataloader_dev:\n",
        "          local_X, local_Y= local_X.cuda(), local_Y.cuda()\n",
        "          outputs = model(local_X)\n",
        "          _, predicted = torch.max(outputs.data, 1)\n",
        "          total += local_Y.size(0)\n",
        "          correct += (predicted == local_Y).sum().item()\n",
        "\n",
        "  return 100 * correct / total"
      ],
      "execution_count": 0,
      "outputs": []
    },
    {
      "cell_type": "code",
      "metadata": {
        "id": "hm5jb4HJd7Dl",
        "colab_type": "code",
        "colab": {}
      },
      "source": [
        "class CNN_Model_2(torch.nn.Module):\n",
        "\n",
        "  def __init__(self):\n",
        "    super().__init__()\n",
        "    self.conv1= torch.nn.Conv2d(3, 16, 7)\n",
        "    self.conv2= torch.nn.Conv2d(16, 16, 3)\n",
        "    self.pool= torch.nn.MaxPool2d(2,2)\n",
        "    self.drop= torch.nn.Dropout(p=0.25)\n",
        "    self.conv_batchnorm=torch.nn.BatchNorm2d(16)\n",
        "    self.linear1=nn.Linear(11664, 2)\n",
        "    \n",
        "\n",
        "  def forward(self, x):\n",
        "    x=self.pool(F.relu(self.conv_batchnorm(self.conv1(x))))\n",
        "    x=F.relu(self.conv_batchnorm(self.conv2(x)))\n",
        "    x=x.view(-1, 11664)\n",
        "\n",
        "    \n",
        "    x=self.drop(x)\n",
        "    x=(self.linear1(x))\n",
        "\n",
        "    return x"
      ],
      "execution_count": 0,
      "outputs": []
    },
    {
      "cell_type": "code",
      "metadata": {
        "id": "K1iKY6MGkL7v",
        "colab_type": "code",
        "outputId": "d42c4fbc-9eab-4242-b5ee-40736c1087de",
        "colab": {
          "base_uri": "https://localhost:8080/",
          "height": 104
        }
      },
      "source": [
        "net_2=CNN_Model_2()\n",
        "net_2.cuda()\n",
        "\n",
        "criterion=nn.CrossEntropyLoss()\n",
        "optimizer=optim.Adagrad(net_2.parameters(), lr=0.1, weight_decay=0.0005) #regularisation l2 (Weight decay and L2 regularisation is same for SGD)\n",
        "flag=0\n",
        "num_epochs=50\n",
        "# scheduler = optim.lr_scheduler.StepLR(optimizer, step_size=30, gamma=0.1)\n",
        "\n",
        "tr_acc, val_acc, loss_dat=train(net_2, optimizer, criterion, num_epochs, 0)\n"
      ],
      "execution_count": 0,
      "outputs": [
        {
          "output_type": "stream",
          "text": [
            "Epoch: 0 0.26525622606277466 Train Acc: 98.35 Val Acc: 98.475\n",
            "Epoch: 10 0.0002584743488114327 Train Acc: 99.625 Val Acc: 99.575\n",
            "Epoch: 20 2.0432471501408145e-05 Train Acc: 99.83125 Val Acc: 99.725\n",
            "Epoch: 30 0.00012461184815037996 Train Acc: 99.825 Val Acc: 99.8\n",
            "Epoch: 40 0.00046193599700927734 Train Acc: 99.95625 Val Acc: 99.95\n"
          ],
          "name": "stdout"
        }
      ]
    },
    {
      "cell_type": "code",
      "metadata": {
        "id": "X6aeZGNmlEb7",
        "colab_type": "code",
        "outputId": "3eb2407d-2426-43d9-c5dd-0c14876e1d18",
        "colab": {
          "base_uri": "https://localhost:8080/",
          "height": 104
        }
      },
      "source": [
        "num_epochs=50\n",
        "# scheduler = optim.lr_scheduler.StepLR(optimizer, step_size=30, gamma=0.1)\n",
        "\n",
        "tr_acc, val_acc, loss_dat=train(net_2, optimizer, criterion, num_epochs, 0)\n"
      ],
      "execution_count": 0,
      "outputs": [
        {
          "output_type": "stream",
          "text": [
            "Epoch: 0 0.10290184617042542 Train Acc: 93.05625 Val Acc: 92.35\n",
            "Epoch: 10 0.18279582262039185 Train Acc: 93.96875 Val Acc: 93.325\n",
            "Epoch: 20 0.11211235076189041 Train Acc: 93.93125 Val Acc: 93.75\n",
            "Epoch: 30 0.21873708069324493 Train Acc: 94.075 Val Acc: 93.2\n",
            "Epoch: 40 0.1460111290216446 Train Acc: 94.71875 Val Acc: 94.375\n"
          ],
          "name": "stdout"
        }
      ]
    },
    {
      "cell_type": "code",
      "metadata": {
        "id": "qo_Q62FreP_p",
        "colab_type": "code",
        "colab": {}
      },
      "source": [
        "\n",
        "\n",
        "dataset_test = MyDataset(test_x, np.zeros((test_x.shape[0],)), transform=transform1)\n",
        "dataloader_test = DataLoader(dataset_test, 50, shuffle=False)\n",
        "preds=[]\n",
        "\n",
        "for local_X, local_Y in dataloader_test:\n",
        "  local_X= local_X.cuda()\n",
        "  outputs=net_3(local_X)\n",
        "  preds.extend(((outputs.max(1)[1]).data).cpu().numpy())\n",
        "\n",
        "from typing import List\n",
        "def write_prediction(prediction: List[int], filename: str):\n",
        "    with open(filename, 'w') as fp:\n",
        "        print('Id,Category', file=fp)\n",
        "        for i, pred in enumerate(prediction):\n",
        "            print(f'{i},{pred}', file=fp)\n",
        "\n",
        "write_prediction(preds, \"test_Model2.txt\")"
      ],
      "execution_count": 0,
      "outputs": []
    },
    {
      "cell_type": "code",
      "metadata": {
        "id": "31TlUY1vae5Y",
        "colab_type": "code",
        "outputId": "0cfdf1fb-ba0c-4a1a-9a99-efba8ba0c685",
        "colab": {
          "base_uri": "https://localhost:8080/",
          "height": 124
        }
      },
      "source": [
        "from google.colab import drive\n",
        "drive.mount('/content/drive')"
      ],
      "execution_count": 0,
      "outputs": [
        {
          "output_type": "stream",
          "text": [
            "Go to this URL in a browser: https://accounts.google.com/o/oauth2/auth?client_id=947318989803-6bn6qk8qdgf4n4g3pfee6491hc0brc4i.apps.googleusercontent.com&redirect_uri=urn%3aietf%3awg%3aoauth%3a2.0%3aoob&response_type=code&scope=email%20https%3a%2f%2fwww.googleapis.com%2fauth%2fdocs.test%20https%3a%2f%2fwww.googleapis.com%2fauth%2fdrive%20https%3a%2f%2fwww.googleapis.com%2fauth%2fdrive.photos.readonly%20https%3a%2f%2fwww.googleapis.com%2fauth%2fpeopleapi.readonly\n",
            "\n",
            "Enter your authorization code:\n",
            "··········\n",
            "Mounted at /content/drive\n"
          ],
          "name": "stdout"
        }
      ]
    },
    {
      "cell_type": "code",
      "metadata": {
        "id": "S_XohDSDeKbM",
        "colab_type": "code",
        "colab": {}
      },
      "source": [
        "import copy\n",
        "chart1_train=copy.deepcopy(tr_acc)\n",
        "chart1_val=copy.deepcopy(val_acc)\n",
        "chart1_loss=copy.deepcopy(loss_dat)"
      ],
      "execution_count": 0,
      "outputs": []
    },
    {
      "cell_type": "code",
      "metadata": {
        "id": "NOmvN7kx07lX",
        "colab_type": "code",
        "outputId": "4ff9be49-e1d3-472a-b4eb-548f41e8d9c0",
        "colab": {
          "base_uri": "https://localhost:8080/",
          "height": 1000
        }
      },
      "source": [
        "chart2_train"
      ],
      "execution_count": 0,
      "outputs": [
        {
          "output_type": "execute_result",
          "data": {
            "text/plain": [
              "[9.977777777777778,\n",
              " 11.593333333333334,\n",
              " 11.753333333333334,\n",
              " 14.775555555555556,\n",
              " 15.775555555555556,\n",
              " 14.38888888888889,\n",
              " 15.544444444444444,\n",
              " 13.677777777777777,\n",
              " 15.046666666666667,\n",
              " 16.57111111111111,\n",
              " 17.375555555555554,\n",
              " 18.42,\n",
              " 16.642222222222223,\n",
              " 17.59777777777778,\n",
              " 17.40888888888889,\n",
              " 17.473333333333333,\n",
              " 17.44,\n",
              " 19.286666666666665,\n",
              " 18.26222222222222,\n",
              " 18.19333333333333,\n",
              " 17.302222222222223,\n",
              " 17.61111111111111,\n",
              " 16.977777777777778,\n",
              " 18.573333333333334,\n",
              " 17.108888888888888,\n",
              " 16.864444444444445,\n",
              " 18.64666666666667,\n",
              " 18.68888888888889,\n",
              " 16.46,\n",
              " 19.64,\n",
              " 31.884444444444444,\n",
              " 34.25111111111111,\n",
              " 34.76,\n",
              " 36.24,\n",
              " 37.27333333333333,\n",
              " 36.58222222222222,\n",
              " 36.86888888888889,\n",
              " 38.07333333333333,\n",
              " 38.48222222222222,\n",
              " 38.6,\n",
              " 38.79333333333334,\n",
              " 38.99777777777778,\n",
              " 38.82888888888889,\n",
              " 40.51111111111111,\n",
              " 40.42888888888889,\n",
              " 40.62,\n",
              " 40.964444444444446,\n",
              " 40.28888888888889,\n",
              " 40.102222222222224,\n",
              " 40.39333333333333,\n",
              " 40.75555555555555,\n",
              " 41.47555555555556,\n",
              " 42.08222222222222,\n",
              " 41.32888888888889,\n",
              " 42.30222222222222,\n",
              " 42.077777777777776,\n",
              " 42.82,\n",
              " 43.24666666666667,\n",
              " 43.913333333333334,\n",
              " 43.17333333333333,\n",
              " 49.15111111111111,\n",
              " 49.82888888888889,\n",
              " 50.16,\n",
              " 50.77333333333333,\n",
              " 51.04666666666667,\n",
              " 51.03111111111111,\n",
              " 51.2,\n",
              " 51.18888888888889,\n",
              " 51.6,\n",
              " 51.64888888888889,\n",
              " 51.63777777777778,\n",
              " 51.88,\n",
              " 51.93333333333333,\n",
              " 51.757777777777775,\n",
              " 52.18222222222222,\n",
              " 52.12444444444444,\n",
              " 52.01777777777778,\n",
              " 52.47555555555556,\n",
              " 52.54666666666667,\n",
              " 52.62222222222222,\n",
              " 52.904444444444444,\n",
              " 52.28888888888889,\n",
              " 52.98888888888889,\n",
              " 53.08222222222222,\n",
              " 53.333333333333336,\n",
              " 53.06,\n",
              " 53.126666666666665,\n",
              " 53.32,\n",
              " 53.15555555555556,\n",
              " 53.18222222222222,\n",
              " 54.33111111111111,\n",
              " 54.477777777777774,\n",
              " 54.611111111111114,\n",
              " 54.54222222222222,\n",
              " 54.49111111111111,\n",
              " 54.59777777777778,\n",
              " 54.626666666666665,\n",
              " 54.53777777777778,\n",
              " 54.71333333333333,\n",
              " 54.70666666666666,\n",
              " 54.708888888888886,\n",
              " 54.80888888888889,\n",
              " 54.74,\n",
              " 54.79555555555555,\n",
              " 54.80888888888889,\n",
              " 54.83777777777778,\n",
              " 54.904444444444444,\n",
              " 54.85333333333333,\n",
              " 54.79333333333334,\n",
              " 54.86222222222222,\n",
              " 54.97555555555556,\n",
              " 54.931111111111115,\n",
              " 54.946666666666665,\n",
              " 55.00888888888889,\n",
              " 54.98888888888889,\n",
              " 54.94888888888889,\n",
              " 55.07333333333333,\n",
              " 55.0,\n",
              " 55.004444444444445,\n",
              " 55.03777777777778,\n",
              " 55.06,\n",
              " 55.068888888888885,\n",
              " 55.08,\n",
              " 55.12444444444444,\n",
              " 55.10888888888889,\n",
              " 55.068888888888885,\n",
              " 55.1,\n",
              " 55.15111111111111,\n",
              " 55.10444444444445,\n",
              " 55.17111111111111,\n",
              " 55.20444444444445,\n",
              " 55.14,\n",
              " 55.126666666666665,\n",
              " 55.126666666666665,\n",
              " 55.14888888888889,\n",
              " 55.11333333333334,\n",
              " 55.086666666666666,\n",
              " 55.14222222222222,\n",
              " 55.117777777777775,\n",
              " 55.14888888888889,\n",
              " 55.15111111111111,\n",
              " 55.16,\n",
              " 55.12444444444444,\n",
              " 55.16222222222222,\n",
              " 55.14222222222222,\n",
              " 55.14222222222222,\n",
              " 55.153333333333336,\n",
              " 55.15777777777778,\n",
              " 55.215555555555554,\n",
              " 55.16]"
            ]
          },
          "metadata": {
            "tags": []
          },
          "execution_count": 24
        }
      ]
    },
    {
      "cell_type": "code",
      "metadata": {
        "id": "mT46F7S-0_34",
        "colab_type": "code",
        "outputId": "22b3d251-53a6-471f-d042-6935c327d47c",
        "colab": {
          "base_uri": "https://localhost:8080/",
          "height": 1000
        }
      },
      "source": [
        "chart2_val"
      ],
      "execution_count": 0,
      "outputs": [
        {
          "output_type": "execute_result",
          "data": {
            "text/plain": [
              "[9.5,\n",
              " 11.98,\n",
              " 11.36,\n",
              " 14.28,\n",
              " 15.72,\n",
              " 13.34,\n",
              " 14.38,\n",
              " 12.86,\n",
              " 14.36,\n",
              " 16.58,\n",
              " 16.16,\n",
              " 17.72,\n",
              " 15.98,\n",
              " 16.56,\n",
              " 16.98,\n",
              " 16.92,\n",
              " 17.38,\n",
              " 18.48,\n",
              " 17.44,\n",
              " 17.52,\n",
              " 15.54,\n",
              " 17.04,\n",
              " 15.92,\n",
              " 17.64,\n",
              " 16.12,\n",
              " 16.38,\n",
              " 17.56,\n",
              " 18.02,\n",
              " 15.94,\n",
              " 18.28,\n",
              " 30.46,\n",
              " 31.36,\n",
              " 31.8,\n",
              " 33.5,\n",
              " 34.02,\n",
              " 33.54,\n",
              " 33.42,\n",
              " 34.04,\n",
              " 34.5,\n",
              " 34.76,\n",
              " 34.78,\n",
              " 33.38,\n",
              " 34.06,\n",
              " 35.36,\n",
              " 35.68,\n",
              " 35.14,\n",
              " 34.92,\n",
              " 35.06,\n",
              " 34.74,\n",
              " 34.78,\n",
              " 34.06,\n",
              " 35.72,\n",
              " 35.64,\n",
              " 34.42,\n",
              " 35.22,\n",
              " 35.98,\n",
              " 35.96,\n",
              " 35.82,\n",
              " 36.14,\n",
              " 36.42,\n",
              " 40.9,\n",
              " 40.94,\n",
              " 40.7,\n",
              " 40.72,\n",
              " 40.9,\n",
              " 40.78,\n",
              " 40.98,\n",
              " 40.86,\n",
              " 41.14,\n",
              " 41.16,\n",
              " 41.16,\n",
              " 41.12,\n",
              " 41.06,\n",
              " 40.86,\n",
              " 40.9,\n",
              " 41.28,\n",
              " 41.2,\n",
              " 41.1,\n",
              " 41.5,\n",
              " 41.4,\n",
              " 41.84,\n",
              " 40.82,\n",
              " 42.14,\n",
              " 41.94,\n",
              " 41.18,\n",
              " 41.6,\n",
              " 41.32,\n",
              " 41.68,\n",
              " 41.56,\n",
              " 41.26,\n",
              " 41.7,\n",
              " 41.68,\n",
              " 41.56,\n",
              " 42.08,\n",
              " 41.96,\n",
              " 42.08,\n",
              " 42.28,\n",
              " 41.96,\n",
              " 41.94,\n",
              " 41.74,\n",
              " 42.26,\n",
              " 42.0,\n",
              " 42.16,\n",
              " 42.08,\n",
              " 42.16,\n",
              " 42.12,\n",
              " 42.08,\n",
              " 42.18,\n",
              " 42.08,\n",
              " 42.24,\n",
              " 42.3,\n",
              " 42.02,\n",
              " 42.24,\n",
              " 42.0,\n",
              " 41.92,\n",
              " 42.4,\n",
              " 41.96,\n",
              " 42.02,\n",
              " 42.02,\n",
              " 42.34,\n",
              " 42.12,\n",
              " 42.16,\n",
              " 42.14,\n",
              " 42.08,\n",
              " 42.06,\n",
              " 42.08,\n",
              " 42.08,\n",
              " 42.1,\n",
              " 42.14,\n",
              " 41.96,\n",
              " 42.04,\n",
              " 41.98,\n",
              " 42.0,\n",
              " 41.98,\n",
              " 42.1,\n",
              " 41.96,\n",
              " 42.04,\n",
              " 42.1,\n",
              " 42.02,\n",
              " 42.04,\n",
              " 41.88,\n",
              " 41.94,\n",
              " 41.96,\n",
              " 41.9,\n",
              " 41.8,\n",
              " 42.08,\n",
              " 41.98,\n",
              " 42.08,\n",
              " 42.1,\n",
              " 42.0]"
            ]
          },
          "metadata": {
            "tags": []
          },
          "execution_count": 25
        }
      ]
    },
    {
      "cell_type": "code",
      "metadata": {
        "id": "jEj2yC1J1GCa",
        "colab_type": "code",
        "outputId": "36ee02e2-8a36-47e0-a009-b539431a33bd",
        "colab": {
          "base_uri": "https://localhost:8080/",
          "height": 1000
        }
      },
      "source": [
        "chart2_loss"
      ],
      "execution_count": 0,
      "outputs": [
        {
          "output_type": "execute_result",
          "data": {
            "text/plain": [
              "[4.061212062835693,\n",
              " 3.9027771949768066,\n",
              " 3.851879358291626,\n",
              " 3.5296099185943604,\n",
              " 3.8565194606781006,\n",
              " 3.4226269721984863,\n",
              " 3.4289257526397705,\n",
              " 3.9483706951141357,\n",
              " 3.6368257999420166,\n",
              " 3.491438627243042,\n",
              " 3.5113394260406494,\n",
              " 3.324786901473999,\n",
              " 3.5452258586883545,\n",
              " 3.26455020904541,\n",
              " 3.361757516860962,\n",
              " 3.9537103176116943,\n",
              " 3.3016862869262695,\n",
              " 3.1986048221588135,\n",
              " 3.727839708328247,\n",
              " 3.807781934738159,\n",
              " 3.9263720512390137,\n",
              " 3.7467498779296875,\n",
              " 3.603242874145508,\n",
              " 3.343951940536499,\n",
              " 3.269167184829712,\n",
              " 3.330883502960205,\n",
              " 4.0336527824401855,\n",
              " 3.579582929611206,\n",
              " 2.9710114002227783,\n",
              " 3.3857293128967285,\n",
              " 2.4178993701934814,\n",
              " 2.629577875137329,\n",
              " 2.556527853012085,\n",
              " 2.478818416595459,\n",
              " 2.3785009384155273,\n",
              " 2.4654781818389893,\n",
              " 2.1754844188690186,\n",
              " 2.585996389389038,\n",
              " 3.0672545433044434,\n",
              " 2.9919986724853516,\n",
              " 2.4851222038269043,\n",
              " 2.462057590484619,\n",
              " 2.100998640060425,\n",
              " 2.4196248054504395,\n",
              " 2.558828353881836,\n",
              " 2.235212564468384,\n",
              " 2.058112621307373,\n",
              " 2.6962099075317383,\n",
              " 2.3835322856903076,\n",
              " 2.455486297607422,\n",
              " 2.4654064178466797,\n",
              " 1.961552381515503,\n",
              " 2.5200235843658447,\n",
              " 2.001309871673584,\n",
              " 2.4404826164245605,\n",
              " 2.7643537521362305,\n",
              " 2.2284328937530518,\n",
              " 2.53080153465271,\n",
              " 2.3211214542388916,\n",
              " 1.8837649822235107,\n",
              " 2.2540881633758545,\n",
              " 2.1729090213775635,\n",
              " 2.3564815521240234,\n",
              " 2.152069330215454,\n",
              " 2.266498327255249,\n",
              " 1.5608607530593872,\n",
              " 1.7530875205993652,\n",
              " 2.1129539012908936,\n",
              " 1.7441989183425903,\n",
              " 1.71397066116333,\n",
              " 1.6184587478637695,\n",
              " 2.5640344619750977,\n",
              " 1.722569227218628,\n",
              " 1.8388246297836304,\n",
              " 2.691063165664673,\n",
              " 1.8981518745422363,\n",
              " 2.0949785709381104,\n",
              " 1.6566457748413086,\n",
              " 1.8343849182128906,\n",
              " 1.8936991691589355,\n",
              " 1.7351841926574707,\n",
              " 2.251126527786255,\n",
              " 1.4450697898864746,\n",
              " 1.7591867446899414,\n",
              " 1.8843098878860474,\n",
              " 1.6384303569793701,\n",
              " 1.789845585823059,\n",
              " 1.5450140237808228,\n",
              " 1.7062687873840332,\n",
              " 1.502742886543274,\n",
              " 1.3261544704437256,\n",
              " 1.543769359588623,\n",
              " 1.6295690536499023,\n",
              " 1.0859748125076294,\n",
              " 1.364280104637146,\n",
              " 1.6254098415374756,\n",
              " 1.892184853553772,\n",
              " 1.6569666862487793,\n",
              " 1.5333962440490723,\n",
              " 1.5531078577041626,\n",
              " 1.369815468788147,\n",
              " 1.1231399774551392,\n",
              " 1.370350956916809,\n",
              " 1.6807819604873657,\n",
              " 1.6818350553512573,\n",
              " 1.6177958250045776,\n",
              " 1.7633085250854492,\n",
              " 1.3693124055862427,\n",
              " 1.8069937229156494,\n",
              " 1.6092017889022827,\n",
              " 1.682570457458496,\n",
              " 1.4390672445297241,\n",
              " 1.3172396421432495,\n",
              " 1.5183802843093872,\n",
              " 1.3727943897247314,\n",
              " 1.3898768424987793,\n",
              " 1.8621315956115723,\n",
              " 1.648382306098938,\n",
              " 1.4415870904922485,\n",
              " 1.3075981140136719,\n",
              " 2.071960926055908,\n",
              " 1.894498586654663,\n",
              " 1.4120879173278809,\n",
              " 1.5421251058578491,\n",
              " 2.348706007003784,\n",
              " 1.7519328594207764,\n",
              " 2.01216983795166,\n",
              " 1.4290833473205566,\n",
              " 1.4904906749725342,\n",
              " 2.085592746734619,\n",
              " 1.4675192832946777,\n",
              " 1.4521255493164062,\n",
              " 1.370733380317688,\n",
              " 1.5695948600769043,\n",
              " 1.2702305316925049,\n",
              " 1.8704975843429565,\n",
              " 1.415235996246338,\n",
              " 1.574760913848877,\n",
              " 1.258899450302124,\n",
              " 1.8935967683792114,\n",
              " 1.278533935546875,\n",
              " 1.6917153596878052,\n",
              " 1.76216721534729,\n",
              " 1.452388048171997,\n",
              " 1.7271162271499634,\n",
              " 1.675876259803772,\n",
              " 1.6934260129928589,\n",
              " 1.2861621379852295,\n",
              " 1.6892338991165161,\n",
              " 1.5425420999526978]"
            ]
          },
          "metadata": {
            "tags": []
          },
          "execution_count": 26
        }
      ]
    },
    {
      "cell_type": "code",
      "metadata": {
        "id": "eZQvBdAci0Tt",
        "colab_type": "code",
        "outputId": "8a160a38-a406-44ad-91bd-96e60262c3cd",
        "colab": {
          "base_uri": "https://localhost:8080/",
          "height": 295
        }
      },
      "source": [
        "from matplotlib import pyplot as plt\n",
        "\n",
        "plt.title(\"Training vs Validation Accuracy with DropOut\")\n",
        "plt.xlabel(\"Epochs\")\n",
        "plt.ylabel(\"Accuracy\")\n",
        "plt.plot(range(len(chart1_train)), chart1_train, label=\"Training\")\n",
        "plt.plot(range(len(chart1_val)), chart1_val, label=\"Validation\")\n",
        "plt.legend();"
      ],
      "execution_count": 0,
      "outputs": [
        {
          "output_type": "display_data",
          "data": {
            "image/png": "[encoded data removed]",
            "text/plain": [
              "<Figure size 432x288 with 1 Axes>"
            ]
          },
          "metadata": {
            "tags": []
          }
        }
      ]
    },
    {
      "cell_type": "code",
      "metadata": {
        "id": "oLR-FWv--h9_",
        "colab_type": "code",
        "outputId": "3b4ad884-c79a-444f-f111-a38212327a51",
        "colab": {
          "base_uri": "https://localhost:8080/",
          "height": 295
        }
      },
      "source": [
        "plt.title(\"Training vs Validation Accuracy without DropOut\")\n",
        "plt.xlabel(\"Epochs\")\n",
        "plt.ylabel(\"Accuracy\")\n",
        "plt.plot(range(len(chart2_train)), chart2_train, label=\"Training\")\n",
        "plt.plot(range(len(chart2_val)), chart2_val, label=\"Validation\")\n",
        "plt.legend();"
      ],
      "execution_count": 0,
      "outputs": [
        {
          "output_type": "display_data",
          "data": {
            "image/png": "[encoded data removed]",
            "text/plain": [
              "<Figure size 432x288 with 1 Axes>"
            ]
          },
          "metadata": {
            "tags": []
          }
        }
      ]
    },
    {
      "cell_type": "code",
      "metadata": {
        "id": "ln1VlGvC_JG4",
        "colab_type": "code",
        "colab": {}
      },
      "source": [
        "chart2_train=copy.deepcopy(tr_acc)\n",
        "chart2_val=copy.deepcopy(val_acc)\n",
        "chart2_loss=copy.deepcopy(loss_dat)"
      ],
      "execution_count": 0,
      "outputs": []
    },
    {
      "cell_type": "code",
      "metadata": {
        "id": "RpraNuNHAfgL",
        "colab_type": "code",
        "outputId": "2426567c-391a-4a86-bd59-bf20f870f9c4",
        "colab": {
          "base_uri": "https://localhost:8080/",
          "height": 295
        }
      },
      "source": [
        "plt.title(\"Train vs Val Accuracy over CNN\")\n",
        "plt.xlabel(\"Epochs\")\n",
        "plt.ylabel(\"Accuracy\")\n",
        "plt.plot(range(len(tr_acc)), tr_acc, label=\"Training\")\n",
        "plt.plot(range(len(val_acc)), val_acc, label=\"Validation\")\n",
        "plt.legend();"
      ],
      "execution_count": 0,
      "outputs": [
        {
          "output_type": "display_data",
          "data": {
            "image/png": "[encoded data removed]",
            "text/plain": [
              "<Figure size 432x288 with 1 Axes>"
            ]
          },
          "metadata": {
            "tags": [],
            "needs_background": "light"
          }
        }
      ]
    },
    {
      "cell_type": "code",
      "metadata": {
        "id": "-PD9o7MIOh8q",
        "colab_type": "code",
        "outputId": "3042bf07-2314-44fd-8caa-fd8ddd44a374",
        "colab": {
          "base_uri": "https://localhost:8080/",
          "height": 295
        }
      },
      "source": [
        "plt.title(\"Validation Accuracy SGD VS AdaGrad\")\n",
        "plt.xlabel(\"Epochs\")\n",
        "plt.ylabel(\"Accuracy\")\n",
        "plt.plot(range(len(val_acc)), val_acc, label=\"AdaGrad\")\n",
        "plt.plot(range(len(chart1_val)), chart1_val, label=\"SGD\")\n",
        "plt.legend();"
      ],
      "execution_count": 0,
      "outputs": [
        {
          "output_type": "display_data",
          "data": {
            "image/png": "[encoded data removed]",
            "text/plain": [
              "<Figure size 432x288 with 1 Axes>"
            ]
          },
          "metadata": {
            "tags": []
          }
        }
      ]
    },
    {
      "cell_type": "code",
      "metadata": {
        "id": "vp-pLuXoO0XG",
        "colab_type": "code",
        "outputId": "4f192371-4305-4712-bffc-6e1f350725f0",
        "colab": {
          "base_uri": "https://localhost:8080/",
          "height": 312
        }
      },
      "source": [
        "plt.title(\"Loss (4-layer GAN)\")\n",
        "plt.xlabel(\"Epochs\")\n",
        "plt.ylabel(\"Loss\")\n",
        "plt.plot(range(len(loss_dat)), loss_dat,)\n",
        "plt.legend();"
      ],
      "execution_count": 0,
      "outputs": [
        {
          "output_type": "stream",
          "text": [
            "No handles with labels found to put in legend.\n"
          ],
          "name": "stderr"
        },
        {
          "output_type": "display_data",
          "data": {
            "image/png": "[encoded data removed]",
            "text/plain": [
              "<Figure size 432x288 with 1 Axes>"
            ]
          },
          "metadata": {
            "tags": [],
            "needs_background": "light"
          }
        }
      ]
    },
    {
      "cell_type": "code",
      "metadata": {
        "id": "IL93A_oK-tni",
        "colab_type": "code",
        "outputId": "e3c62f56-c73a-445a-fc34-384bd9739bca",
        "colab": {
          "base_uri": "https://localhost:8080/",
          "height": 515
        }
      },
      "source": [
        "plt.title(\"Loss with and without Dropout\")\n",
        "plt.xlabel(\"Epochs\")\n",
        "plt.ylabel(\"Loss\")\n",
        "plt.plot(range(len(chart2_loss)), chart2_loss, label=\"Without Dropout\")\n",
        "plt.plot(range(len(chart1_loss)), chart1_loss, label=\"With Dropout\")\n",
        "plt.legend();"
      ],
      "execution_count": 0,
      "outputs": [
        {
          "output_type": "error",
          "ename": "NameError",
          "evalue": "ignored",
          "traceback": [
            "\u001b[0;31m---------------------------------------------------------------------------\u001b[0m",
            "\u001b[0;31mNameError\u001b[0m                                 Traceback (most recent call last)",
            "\u001b[0;32m<ipython-input-32-a8c831029ae8>\u001b[0m in \u001b[0;36m<module>\u001b[0;34m()\u001b[0m\n\u001b[1;32m      2\u001b[0m \u001b[0mplt\u001b[0m\u001b[0;34m.\u001b[0m\u001b[0mxlabel\u001b[0m\u001b[0;34m(\u001b[0m\u001b[0;34m\"Epochs\"\u001b[0m\u001b[0;34m)\u001b[0m\u001b[0;34m\u001b[0m\u001b[0;34m\u001b[0m\u001b[0m\n\u001b[1;32m      3\u001b[0m \u001b[0mplt\u001b[0m\u001b[0;34m.\u001b[0m\u001b[0mylabel\u001b[0m\u001b[0;34m(\u001b[0m\u001b[0;34m\"Loss\"\u001b[0m\u001b[0;34m)\u001b[0m\u001b[0;34m\u001b[0m\u001b[0;34m\u001b[0m\u001b[0m\n\u001b[0;32m----> 4\u001b[0;31m \u001b[0mplt\u001b[0m\u001b[0;34m.\u001b[0m\u001b[0mplot\u001b[0m\u001b[0;34m(\u001b[0m\u001b[0mrange\u001b[0m\u001b[0;34m(\u001b[0m\u001b[0mlen\u001b[0m\u001b[0;34m(\u001b[0m\u001b[0mchart2_loss\u001b[0m\u001b[0;34m)\u001b[0m\u001b[0;34m)\u001b[0m\u001b[0;34m,\u001b[0m \u001b[0mchart2_loss\u001b[0m\u001b[0;34m,\u001b[0m \u001b[0mlabel\u001b[0m\u001b[0;34m=\u001b[0m\u001b[0;34m\"Without Dropout\"\u001b[0m\u001b[0;34m)\u001b[0m\u001b[0;34m\u001b[0m\u001b[0;34m\u001b[0m\u001b[0m\n\u001b[0m\u001b[1;32m      5\u001b[0m \u001b[0mplt\u001b[0m\u001b[0;34m.\u001b[0m\u001b[0mplot\u001b[0m\u001b[0;34m(\u001b[0m\u001b[0mrange\u001b[0m\u001b[0;34m(\u001b[0m\u001b[0mlen\u001b[0m\u001b[0;34m(\u001b[0m\u001b[0mchart1_loss\u001b[0m\u001b[0;34m)\u001b[0m\u001b[0;34m)\u001b[0m\u001b[0;34m,\u001b[0m \u001b[0mchart1_loss\u001b[0m\u001b[0;34m,\u001b[0m \u001b[0mlabel\u001b[0m\u001b[0;34m=\u001b[0m\u001b[0;34m\"With Dropout\"\u001b[0m\u001b[0;34m)\u001b[0m\u001b[0;34m\u001b[0m\u001b[0;34m\u001b[0m\u001b[0m\n\u001b[1;32m      6\u001b[0m \u001b[0mplt\u001b[0m\u001b[0;34m.\u001b[0m\u001b[0mlegend\u001b[0m\u001b[0;34m(\u001b[0m\u001b[0;34m)\u001b[0m\u001b[0;34m;\u001b[0m\u001b[0;34m\u001b[0m\u001b[0;34m\u001b[0m\u001b[0m\n",
            "\u001b[0;31mNameError\u001b[0m: name 'chart2_loss' is not defined"
          ]
        },
        {
          "output_type": "display_data",
          "data": {
            "image/png": "[encoded data removed]",
            "text/plain": [
              "<Figure size 432x288 with 1 Axes>"
            ]
          },
          "metadata": {
            "tags": [],
            "needs_background": "light"
          }
        }
      ]
    },
    {
      "cell_type": "code",
      "metadata": {
        "id": "WqVaRCbUlsW0",
        "colab_type": "code",
        "colab": {}
      },
      "source": [
        "import matplotlib.pyplot as plt\n"
      ],
      "execution_count": 0,
      "outputs": []
    },
    {
      "cell_type": "code",
      "metadata": {
        "id": "VEHnF3jw-8WK",
        "colab_type": "code",
        "outputId": "511c0b59-506b-409a-f677-9a35da94244a",
        "colab": {
          "base_uri": "https://localhost:8080/",
          "height": 1000
        }
      },
      "source": [
        "tr_acc"
      ],
      "execution_count": 0,
      "outputs": [
        {
          "output_type": "execute_result",
          "data": {
            "text/plain": [
              "[1.5,\n",
              " 2.902222222222222,\n",
              " 4.337777777777778,\n",
              " 5.66,\n",
              " 6.695555555555556,\n",
              " 8.22888888888889,\n",
              " 10.124444444444444,\n",
              " 11.586666666666666,\n",
              " 12.595555555555556,\n",
              " 15.397777777777778,\n",
              " 16.313333333333333,\n",
              " 17.15111111111111,\n",
              " 19.413333333333334,\n",
              " 20.584444444444443,\n",
              " 22.88222222222222,\n",
              " 23.973333333333333,\n",
              " 25.166666666666668,\n",
              " 26.56888888888889,\n",
              " 27.366666666666667,\n",
              " 28.633333333333333,\n",
              " 27.997777777777777,\n",
              " 28.602222222222224,\n",
              " 30.342222222222222,\n",
              " 31.391111111111112,\n",
              " 32.75555555555555,\n",
              " 32.626666666666665,\n",
              " 33.44888888888889,\n",
              " 34.07333333333333,\n",
              " 33.54,\n",
              " 34.88,\n",
              " 35.92444444444445,\n",
              " 35.24888888888889,\n",
              " 37.28666666666667,\n",
              " 37.58,\n",
              " 36.96888888888889,\n",
              " 38.34888888888889,\n",
              " 38.797777777777775,\n",
              " 39.25555555555555,\n",
              " 39.87555555555556,\n",
              " 39.73777777777778,\n",
              " 40.184444444444445,\n",
              " 39.75555555555555,\n",
              " 40.74444444444445,\n",
              " 41.16,\n",
              " 41.028888888888886,\n",
              " 41.53111111111111,\n",
              " 42.611111111111114,\n",
              " 42.73111111111111,\n",
              " 42.52444444444444,\n",
              " 41.55555555555556,\n",
              " 43.617777777777775,\n",
              " 43.593333333333334,\n",
              " 44.12,\n",
              " 44.1,\n",
              " 44.422222222222224,\n",
              " 45.03777777777778,\n",
              " 44.9,\n",
              " 45.69555555555556,\n",
              " 46.153333333333336,\n",
              " 46.13333333333333,\n",
              " 45.86,\n",
              " 46.28666666666667,\n",
              " 46.55777777777778,\n",
              " 47.013333333333335,\n",
              " 47.49111111111111,\n",
              " 47.28666666666667,\n",
              " 46.513333333333335,\n",
              " 47.71111111111111,\n",
              " 47.68666666666667,\n",
              " 48.03111111111111,\n",
              " 48.373333333333335,\n",
              " 48.61333333333334,\n",
              " 48.471111111111114,\n",
              " 49.095555555555556,\n",
              " 49.04888888888889,\n",
              " 48.92444444444445,\n",
              " 49.053333333333335,\n",
              " 49.6,\n",
              " 49.26222222222222,\n",
              " 50.166666666666664,\n",
              " 50.18222222222222,\n",
              " 49.973333333333336,\n",
              " 50.64222222222222,\n",
              " 50.84444444444444,\n",
              " 51.068888888888885,\n",
              " 50.495555555555555,\n",
              " 50.96222222222222,\n",
              " 51.3,\n",
              " 51.19111111111111,\n",
              " 51.153333333333336,\n",
              " 51.40222222222222,\n",
              " 51.85777777777778,\n",
              " 51.93333333333333,\n",
              " 51.06666666666667,\n",
              " 52.233333333333334,\n",
              " 52.42666666666667,\n",
              " 51.388888888888886,\n",
              " 52.406666666666666,\n",
              " 53.08222222222222,\n",
              " 53.51777777777778,\n",
              " 52.98,\n",
              " 52.67111111111111,\n",
              " 53.56,\n",
              " 53.733333333333334,\n",
              " 54.06,\n",
              " 53.64666666666667,\n",
              " 54.10888888888889,\n",
              " 54.373333333333335,\n",
              " 53.64888888888889,\n",
              " 53.684444444444445,\n",
              " 53.98444444444444,\n",
              " 54.54222222222222,\n",
              " 54.08222222222222,\n",
              " 54.94,\n",
              " 54.973333333333336,\n",
              " 55.346666666666664,\n",
              " 54.815555555555555,\n",
              " 55.1,\n",
              " 54.946666666666665,\n",
              " 55.922222222222224,\n",
              " 55.31111111111111,\n",
              " 55.55555555555556,\n",
              " 55.64,\n",
              " 55.824444444444445,\n",
              " 55.68222222222222,\n",
              " 55.94,\n",
              " 55.73555555555556,\n",
              " 56.36222222222222,\n",
              " 55.833333333333336,\n",
              " 56.50888888888889,\n",
              " 55.611111111111114,\n",
              " 57.05555555555556,\n",
              " 56.73555555555556,\n",
              " 56.99111111111111,\n",
              " 56.80222222222222,\n",
              " 57.193333333333335,\n",
              " 57.20666666666666,\n",
              " 56.45777777777778,\n",
              " 57.535555555555554,\n",
              " 57.79333333333334,\n",
              " 58.14888888888889,\n",
              " 57.08,\n",
              " 58.18666666666667,\n",
              " 57.355555555555554,\n",
              " 58.044444444444444,\n",
              " 58.166666666666664,\n",
              " 58.406666666666666,\n",
              " 57.977777777777774,\n",
              " 58.17333333333333,\n",
              " 58.35333333333333]"
            ]
          },
          "metadata": {
            "tags": []
          },
          "execution_count": 31
        }
      ]
    },
    {
      "cell_type": "code",
      "metadata": {
        "id": "ROLnW3JqC_kc",
        "colab_type": "code",
        "outputId": "1d7b5c74-397f-421f-c904-7daf3181bc41",
        "colab": {
          "base_uri": "https://localhost:8080/",
          "height": 1000
        }
      },
      "source": [
        "val_acc"
      ],
      "execution_count": 0,
      "outputs": [
        {
          "output_type": "execute_result",
          "data": {
            "text/plain": [
              "[1.3,\n",
              " 2.36,\n",
              " 4.14,\n",
              " 5.38,\n",
              " 6.9,\n",
              " 7.4,\n",
              " 10.08,\n",
              " 10.62,\n",
              " 12.26,\n",
              " 14.4,\n",
              " 15.34,\n",
              " 15.84,\n",
              " 18.12,\n",
              " 19.22,\n",
              " 21.72,\n",
              " 21.92,\n",
              " 22.92,\n",
              " 24.24,\n",
              " 25.52,\n",
              " 26.2,\n",
              " 26.0,\n",
              " 26.66,\n",
              " 27.54,\n",
              " 28.94,\n",
              " 29.76,\n",
              " 28.96,\n",
              " 29.82,\n",
              " 29.94,\n",
              " 30.2,\n",
              " 31.12,\n",
              " 31.78,\n",
              " 30.62,\n",
              " 33.74,\n",
              " 33.08,\n",
              " 32.94,\n",
              " 33.8,\n",
              " 33.84,\n",
              " 33.82,\n",
              " 34.92,\n",
              " 35.16,\n",
              " 34.72,\n",
              " 34.3,\n",
              " 35.06,\n",
              " 35.2,\n",
              " 35.72,\n",
              " 35.96,\n",
              " 35.68,\n",
              " 36.3,\n",
              " 37.28,\n",
              " 35.74,\n",
              " 36.24,\n",
              " 36.86,\n",
              " 37.34,\n",
              " 37.16,\n",
              " 38.54,\n",
              " 38.06,\n",
              " 37.26,\n",
              " 38.02,\n",
              " 38.36,\n",
              " 38.96,\n",
              " 38.38,\n",
              " 39.02,\n",
              " 38.64,\n",
              " 38.72,\n",
              " 38.8,\n",
              " 39.72,\n",
              " 39.18,\n",
              " 39.6,\n",
              " 39.7,\n",
              " 39.22,\n",
              " 40.5,\n",
              " 39.64,\n",
              " 39.88,\n",
              " 40.06,\n",
              " 39.6,\n",
              " 39.3,\n",
              " 40.28,\n",
              " 41.02,\n",
              " 40.82,\n",
              " 39.9,\n",
              " 41.28,\n",
              " 40.62,\n",
              " 40.82,\n",
              " 40.62,\n",
              " 40.82,\n",
              " 40.7,\n",
              " 40.98,\n",
              " 41.1,\n",
              " 40.94,\n",
              " 40.62,\n",
              " 40.2,\n",
              " 40.78,\n",
              " 40.32,\n",
              " 39.68,\n",
              " 41.0,\n",
              " 41.38,\n",
              " 40.48,\n",
              " 41.28,\n",
              " 41.88,\n",
              " 42.72,\n",
              " 42.1,\n",
              " 41.44,\n",
              " 41.68,\n",
              " 41.86,\n",
              " 41.68,\n",
              " 41.1,\n",
              " 41.96,\n",
              " 41.88,\n",
              " 42.58,\n",
              " 41.96,\n",
              " 41.56,\n",
              " 42.14,\n",
              " 41.6,\n",
              " 41.86,\n",
              " 42.34,\n",
              " 41.88,\n",
              " 41.58,\n",
              " 41.7,\n",
              " 41.64,\n",
              " 42.08,\n",
              " 43.04,\n",
              " 42.78,\n",
              " 42.44,\n",
              " 42.12,\n",
              " 42.66,\n",
              " 42.72,\n",
              " 43.18,\n",
              " 43.12,\n",
              " 43.08,\n",
              " 42.08,\n",
              " 42.1,\n",
              " 42.72,\n",
              " 42.66,\n",
              " 43.68,\n",
              " 43.14,\n",
              " 42.8,\n",
              " 42.58,\n",
              " 42.96,\n",
              " 43.76,\n",
              " 43.92,\n",
              " 43.86,\n",
              " 43.34,\n",
              " 42.52,\n",
              " 42.52,\n",
              " 42.6,\n",
              " 42.56,\n",
              " 43.54,\n",
              " 42.84,\n",
              " 43.12,\n",
              " 42.84]"
            ]
          },
          "metadata": {
            "tags": []
          },
          "execution_count": 32
        }
      ]
    },
    {
      "cell_type": "code",
      "metadata": {
        "id": "6LtyMzKjDBPO",
        "colab_type": "code",
        "outputId": "bec1da98-6ee4-4b8c-84f6-785efb20ca6e",
        "colab": {
          "base_uri": "https://localhost:8080/",
          "height": 1000
        }
      },
      "source": [
        "loss_dat"
      ],
      "execution_count": 0,
      "outputs": [
        {
          "output_type": "execute_result",
          "data": {
            "text/plain": [
              "[4.501336574554443,\n",
              " 4.371716499328613,\n",
              " 4.191889762878418,\n",
              " 4.566026210784912,\n",
              " 4.1361894607543945,\n",
              " 3.6027121543884277,\n",
              " 4.27572774887085,\n",
              " 3.964383840560913,\n",
              " 3.5030405521392822,\n",
              " 3.5453219413757324,\n",
              " 3.046281099319458,\n",
              " 3.0694515705108643,\n",
              " 3.409156560897827,\n",
              " 3.5260627269744873,\n",
              " 3.103425979614258,\n",
              " 2.853008508682251,\n",
              " 2.999816656112671,\n",
              " 2.687835454940796,\n",
              " 2.661215305328369,\n",
              " 2.2202439308166504,\n",
              " 3.0992815494537354,\n",
              " 2.587942600250244,\n",
              " 2.7122433185577393,\n",
              " 2.7290356159210205,\n",
              " 2.769998073577881,\n",
              " 3.0720627307891846,\n",
              " 2.854548692703247,\n",
              " 2.5310378074645996,\n",
              " 3.0982062816619873,\n",
              " 2.4209988117218018,\n",
              " 2.4439451694488525,\n",
              " 2.516791820526123,\n",
              " 1.9304068088531494,\n",
              " 2.618420362472534,\n",
              " 2.2178258895874023,\n",
              " 2.5460634231567383,\n",
              " 2.612114667892456,\n",
              " 2.3564908504486084,\n",
              " 2.0427334308624268,\n",
              " 2.205382823944092,\n",
              " 1.8754966259002686,\n",
              " 2.1649515628814697,\n",
              " 2.1472129821777344,\n",
              " 2.4615139961242676,\n",
              " 1.9142580032348633,\n",
              " 2.11381459236145,\n",
              " 2.1433560848236084,\n",
              " 2.1943352222442627,\n",
              " 2.6947743892669678,\n",
              " 2.592961311340332,\n",
              " 1.999662160873413,\n",
              " 2.559976577758789,\n",
              " 2.2610645294189453,\n",
              " 2.3268961906433105,\n",
              " 2.2031307220458984,\n",
              " 2.2696800231933594,\n",
              " 1.8253028392791748,\n",
              " 1.9961248636245728,\n",
              " 2.389791488647461,\n",
              " 2.3266005516052246,\n",
              " 2.067858934402466,\n",
              " 1.9198920726776123,\n",
              " 2.09521484375,\n",
              " 1.942353367805481,\n",
              " 1.9427937269210815,\n",
              " 2.1183338165283203,\n",
              " 2.062385320663452,\n",
              " 2.1926779747009277,\n",
              " 2.0289511680603027,\n",
              " 1.5023677349090576,\n",
              " 1.941906452178955,\n",
              " 1.7869293689727783,\n",
              " 1.916519045829773,\n",
              " 1.8477367162704468,\n",
              " 1.9677642583847046,\n",
              " 1.5843331813812256,\n",
              " 2.1420836448669434,\n",
              " 2.375819683074951,\n",
              " 1.9233262538909912,\n",
              " 1.6322076320648193,\n",
              " 2.1018199920654297,\n",
              " 1.9543896913528442,\n",
              " 1.9452623128890991,\n",
              " 1.9279158115386963,\n",
              " 1.4262518882751465,\n",
              " 2.2820212841033936,\n",
              " 1.6670784950256348,\n",
              " 2.1266748905181885,\n",
              " 1.6054202318191528,\n",
              " 2.002007484436035,\n",
              " 2.138476848602295,\n",
              " 2.25913405418396,\n",
              " 1.5937951803207397,\n",
              " 2.1266472339630127,\n",
              " 1.689003586769104,\n",
              " 1.8656134605407715,\n",
              " 1.6475824117660522,\n",
              " 1.9719054698944092,\n",
              " 1.983057975769043,\n",
              " 1.5845866203308105,\n",
              " 1.8939414024353027,\n",
              " 1.700551152229309,\n",
              " 1.6746759414672852,\n",
              " 1.6759743690490723,\n",
              " 1.672142505645752,\n",
              " 1.5208611488342285,\n",
              " 1.4184174537658691,\n",
              " 1.8697532415390015,\n",
              " 1.7310433387756348,\n",
              " 1.841912865638733,\n",
              " 1.3578048944473267,\n",
              " 1.4653598070144653,\n",
              " 2.1360771656036377,\n",
              " 1.4223182201385498,\n",
              " 1.9065604209899902,\n",
              " 1.5851892232894897,\n",
              " 2.06192946434021,\n",
              " 1.98162841796875,\n",
              " 1.8515950441360474,\n",
              " 2.2242181301116943,\n",
              " 1.6780292987823486,\n",
              " 1.6155160665512085,\n",
              " 1.6661709547042847,\n",
              " 2.0564756393432617,\n",
              " 1.5523611307144165,\n",
              " 1.7026703357696533,\n",
              " 2.126162528991699,\n",
              " 1.7555358409881592,\n",
              " 1.6520189046859741,\n",
              " 1.6097427606582642,\n",
              " 1.815239429473877,\n",
              " 1.6819839477539062,\n",
              " 1.509554386138916,\n",
              " 1.5266553163528442,\n",
              " 1.6877344846725464,\n",
              " 1.536142110824585,\n",
              " 1.3496716022491455,\n",
              " 1.716566562652588,\n",
              " 1.493659257888794,\n",
              " 1.5830299854278564,\n",
              " 1.4272820949554443,\n",
              " 2.0743672847747803,\n",
              " 1.401098370552063,\n",
              " 1.8010761737823486,\n",
              " 1.4681373834609985,\n",
              " 1.3581078052520752,\n",
              " 1.4225437641143799,\n",
              " 1.5671347379684448,\n",
              " 1.2918369770050049,\n",
              " 0.9156718254089355]"
            ]
          },
          "metadata": {
            "tags": []
          },
          "execution_count": 33
        }
      ]
    },
    {
      "cell_type": "code",
      "metadata": {
        "id": "Uhx7Y9KFDCKP",
        "colab_type": "code",
        "colab": {}
      },
      "source": [
        "0 Total loss:0.689104, ID loss:0.854504,  Discriminator loss:0.091821\n",
        "1 Total loss:0.830196, ID loss:0.660689,  Discriminator loss:0.003011\n",
        "2 Total loss:0.833713, ID loss:0.596598,  Discriminator loss:0.002543\n",
        "3 Total loss:0.830025, ID loss:0.637127,  Discriminator loss:0.002397\n",
        "4 Total loss:0.790544, ID loss:0.501479,  Discriminator loss:0.001295\n",
        "5 Total loss:0.768568, ID loss:0.478745,  Discriminator loss:0.000681\n",
        "6 Total loss:0.749506, ID loss:0.439256,  Discriminator loss:0.000600\n",
        "7 Total loss:0.770575, ID loss:0.453002,  Discriminator loss:0.000563\n",
        "8 Total loss:0.756730, ID loss:0.505317,  Discriminator loss:0.001054\n",
        "9 Total loss:0.719940, ID loss:0.409590,  Discriminator loss:0.000511\n",
        "10 Total loss:0.761691, ID loss:0.431285,  Discriminator loss:0.000347\n",
        "11 Total loss:0.751396, ID loss:0.419405,  Discriminator loss:0.000327\n",
        "12 Total loss:0.753798, ID loss:0.421663,  Discriminator loss:0.002474\n",
        "13 Total loss:0.734795, ID loss:0.424565,  Discriminator loss:0.001831\n",
        "14 Total loss:0.725902, ID loss:0.375348,  Discriminator loss:0.000154\n",
        "15 Total loss:0.712545, ID loss:0.389822,  Discriminator loss:0.000940\n",
        "16 Total loss:0.713049, ID loss:0.369290,  Discriminator loss:0.000258\n",
        "17 Total loss:0.754953, ID loss:0.409604,  Discriminator loss:0.000611\n",
        "18 Total loss:0.723815, ID loss:0.387035,  Discriminator loss:0.001165\n",
        "19 Total loss:0.749282, ID loss:0.413056,  Discriminator loss:0.000361\n",
        "20 Total loss:0.744107, ID loss:0.387962,  Discriminator loss:0.000530\n",
        "21 Total loss:0.713329, ID loss:0.353072,  Discriminator loss:0.000173\n",
        "22 Total loss:0.754588, ID loss:0.416378,  Discriminator loss:0.000244\n",
        "23 Total loss:0.725625, ID loss:0.376969,  Discriminator loss:0.000196\n",
        "24 Total loss:0.721068, ID loss:0.365049,  Discriminator loss:0.000190"
      ],
      "execution_count": 0,
      "outputs": []
    },
    {
      "cell_type": "code",
      "metadata": {
        "id": "NXuJaiiJKVh8",
        "colab_type": "code",
        "colab": {}
      },
      "source": [
        "loss=[0.854504, 0.660689, 0.596598, 0.637127, 0.501479, 0.478745, 0.439256, 0.453002, 0.505317, 0.409590, 0.431285, 0.419405, 0.421663, 0.424565, 0.375348, 0.389822, 0.369290, 0.409604, 0.387035, 0.413056, 0.387962, 0.353072, 0.416378, 0.376969, 0.365049]"
      ],
      "execution_count": 0,
      "outputs": []
    },
    {
      "cell_type": "code",
      "metadata": {
        "id": "x08kr1eCPsvS",
        "colab_type": "code",
        "colab": {}
      },
      "source": [
        "loss1=[0.091821, 0.003011, 0.002543, 0.002397, 0.001295, 0.000681, 0.000600, 0.000563, 0.001054, 0.000511, 0.000347, 0.000327, 0.002474, 0.001831, 0.000154, 0.000940, 0.000258, 0.000611, 0.001165, 0.000361, 0.000530, 0.000173, 0.000244, 0.000196, 0.000190]"
      ],
      "execution_count": 0,
      "outputs": []
    },
    {
      "cell_type": "code",
      "metadata": {
        "id": "r53dpn3bL8EP",
        "colab_type": "code",
        "outputId": "caf78b3a-093a-4b82-bbe9-8d1430eabc6c",
        "colab": {
          "base_uri": "https://localhost:8080/",
          "height": 295
        }
      },
      "source": [
        "plt.title(\"Loss plot of Network\")\n",
        "plt.xlabel(\"Epochs\")\n",
        "plt.ylabel(\"Loss\")\n",
        "plt.plot(range(len(loss)), loss, label='Autoencoder: Identity Loss');\n",
        "plt.plot(range(len(loss1)), loss1, label='Discriminator');\n",
        "plt.legend();"
      ],
      "execution_count": 0,
      "outputs": [
        {
          "output_type": "display_data",
          "data": {
            "image/png": "[encoded data removed]",
            "text/plain": [
              "<Figure size 432x288 with 1 Axes>"
            ]
          },
          "metadata": {
            "tags": [],
            "needs_background": "light"
          }
        }
      ]
    },
    {
      "cell_type": "code",
      "metadata": {
        "id": "vD8IxevfOuDw",
        "colab_type": "code",
        "colab": {}
      },
      "source": [
        "import matplotlib.pyplot as plt\n"
      ],
      "execution_count": 0,
      "outputs": []
    },
    {
      "cell_type": "code",
      "metadata": {
        "id": "a0MpqScyO6AL",
        "colab_type": "code",
        "colab": {}
      },
      "source": [
        ""
      ],
      "execution_count": 0,
      "outputs": []
    }
  ]
}